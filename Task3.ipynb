{
 "cells": [
  {
   "attachments": {},
   "cell_type": "markdown",
   "metadata": {},
   "source": [
    "Задача 3. Проведите тест гипотезы. Продавец утверждает, что средний вес пачки печенья\n",
    "составляет 200 г.\n",
    "Из партии извлечена выборка из 10 пачек. Вес каждой пачки составляет:\n",
    "202, 203, 199, 197, 195, 201, 200, 204, 194, 190.\n",
    "Известно, что их веса распределены нормально.\n",
    "Верно ли утверждение продавца, если учитывать, что доверительная вероятность равна\n",
    "99%? (Провести двусторонний тест.)"
   ]
  },
  {
   "cell_type": "code",
   "execution_count": 29,
   "metadata": {},
   "outputs": [
    {
     "data": {
      "text/plain": [
       "198.5"
      ]
     },
     "execution_count": 29,
     "metadata": {},
     "output_type": "execute_result"
    }
   ],
   "source": [
    "arr = [202, 203, 199, 197, 195, 201, 200, 204, 194, 190]\n",
    "avr = sum(arr)/len(arr)\n",
    "M_x = 200\n",
    "a=0.01\n",
    "n = 10\n",
    "avr\n"
   ]
  },
  {
   "cell_type": "code",
   "execution_count": 23,
   "metadata": {},
   "outputs": [],
   "source": [
    "import numpy as np\n",
    "from scipy import stats\n",
    "\n",
    "\n"
   ]
  },
  {
   "cell_type": "code",
   "execution_count": 33,
   "metadata": {},
   "outputs": [
    {
     "data": {
      "text/plain": [
       "(-2.8784404727135864, 2.878440472713585, -1.0651074037450896)"
      ]
     },
     "execution_count": 33,
     "metadata": {},
     "output_type": "execute_result"
    }
   ],
   "source": [
    "\n",
    "arr_v = np.var(arr,ddof=1)\n",
    "\n",
    "t1 = stats.t.ppf(a/2,df=2*(n-1))\n",
    "t2 = stats.t.ppf(1-a/2,df=2*(n-1))\n",
    "t_emp =  (avr-M_x)/(np.sqrt(arr_v/n))\n",
    "\n",
    "t1,t2,t_emp\n",
    "\n"
   ]
  },
  {
   "attachments": {},
   "cell_type": "markdown",
   "metadata": {},
   "source": [
    "Вывод\n",
    "\n",
    "Нулевая гипотеза, что средней вес пачки равен 200 г не отвергается (т.к. значение лежит м/у -2.878 и 2.878)"
   ]
  }
 ],
 "metadata": {
  "kernelspec": {
   "display_name": "Python 3",
   "language": "python",
   "name": "python3"
  },
  "language_info": {
   "codemirror_mode": {
    "name": "ipython",
    "version": 3
   },
   "file_extension": ".py",
   "mimetype": "text/x-python",
   "name": "python",
   "nbconvert_exporter": "python",
   "pygments_lexer": "ipython3",
   "version": "3.10.11"
  },
  "orig_nbformat": 4
 },
 "nbformat": 4,
 "nbformat_minor": 2
}
